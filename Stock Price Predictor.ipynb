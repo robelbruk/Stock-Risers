{
 "cells": [
  {
   "cell_type": "markdown",
   "id": "a391e0f8",
   "metadata": {},
   "source": [
    "# Stock Price Predictor\n",
    "Models to predict stock prices. Using data from Yahoo finance imported with the yfinance library. "
   ]
  },
  {
   "cell_type": "code",
   "execution_count": null,
   "id": "04652f61",
   "metadata": {},
   "outputs": [],
   "source": [
    "import warnings\n",
    "warnings.filterwarnings(\"ignore\")\n",
    "import numpy as np\n",
    "import pandas as pd\n",
    "import matplotlib.pyplot as plt\n",
    "import seaborn as sns\n",
    "import yfinance as yf\n",
    "%matplotlib inline"
   ]
  },
  {
   "cell_type": "code",
   "execution_count": null,
   "id": "136312d5",
   "metadata": {},
   "outputs": [],
   "source": [
    "stocks = input(\"Enter the code of the stock: \")\n",
    "data = yf.download(stocks, \"2010-01-01\",\"2022-04-30\", auto_adjust = True)\n",
    "data.head()"
   ]
  },
  {
   "cell_type": "markdown",
   "id": "82b824d3",
   "metadata": {},
   "source": [
    "Gets data from January 1st 2010 to April 30 2022"
   ]
  },
  {
   "cell_type": "code",
   "execution_count": null,
   "id": "28c6b11c",
   "metadata": {},
   "outputs": [],
   "source": [
    "data.shape\n"
   ]
  },
  {
   "cell_type": "code",
   "execution_count": null,
   "id": "fe76e4e0",
   "metadata": {},
   "outputs": [],
   "source": [
    "data.info()"
   ]
  },
  {
   "cell_type": "code",
   "execution_count": null,
   "id": "b57addf8",
   "metadata": {},
   "outputs": [],
   "source": [
    "data.describe().T"
   ]
  },
  {
   "cell_type": "code",
   "execution_count": null,
   "id": "b1ede30a",
   "metadata": {},
   "outputs": [],
   "source": [
    "data.Close.plot(figsize = (10, 7), color='m' )\n",
    "plt.ylabel(\"{} Prices\".format(stocks))\n",
    "plt.title(\"{} Price Series\".format(stocks))\n",
    "plt.show()\n",
    "plt.savefig(\"plot1.png\")"
   ]
  },
  {
   "cell_type": "code",
   "execution_count": null,
   "id": "2b6587d6",
   "metadata": {},
   "outputs": [],
   "source": [
    "data.isnull().sum()"
   ]
  },
  {
   "cell_type": "code",
   "execution_count": null,
   "id": "559284e5",
   "metadata": {},
   "outputs": [],
   "source": [
    "sns.distplot(data['Close'])"
   ]
  },
  {
   "cell_type": "code",
   "execution_count": null,
   "id": "3323294f",
   "metadata": {},
   "outputs": [],
   "source": [
    "sns.distplot(data['Open'])"
   ]
  },
  {
   "cell_type": "code",
   "execution_count": null,
   "id": "a92eb2f8",
   "metadata": {},
   "outputs": [],
   "source": [
    "sns.distplot(data['High'])"
   ]
  },
  {
   "cell_type": "markdown",
   "id": "b7d17e5f",
   "metadata": {},
   "source": [
    "We can see from the shape of the data and how the data is distributed that it is very non-linear"
   ]
  },
  {
   "cell_type": "markdown",
   "id": "a79c6b4a",
   "metadata": {},
   "source": [
    "# Models to use:\n",
    "Linear Regression, SVMs"
   ]
  },
  {
   "cell_type": "code",
   "execution_count": null,
   "id": "a6736bdb",
   "metadata": {},
   "outputs": [],
   "source": [
    "X = data.drop(\"Close\", axis = 1)\n",
    "y = data.Close"
   ]
  },
  {
   "cell_type": "code",
   "execution_count": null,
   "id": "bd880d1b",
   "metadata": {},
   "outputs": [],
   "source": [
    "from sklearn.model_selection import train_test_split\n",
    "X_train, X_test, y_train, y_test = train_test_split(X,y, test_size = 0.2, random_state = 42)\n",
    "print(X_train.shape)\n",
    "print(X_test.shape)\n",
    "print(y_train.shape)\n",
    "print(y_test.shape)"
   ]
  },
  {
   "cell_type": "code",
   "execution_count": null,
   "id": "ea76a599",
   "metadata": {},
   "outputs": [],
   "source": [
    "from sklearn.linear_model import LinearRegression"
   ]
  },
  {
   "cell_type": "code",
   "execution_count": null,
   "id": "849452e7",
   "metadata": {},
   "outputs": [],
   "source": [
    "linear_model = LinearRegression()\n",
    "linear_model.fit(X_train, y_train)\n",
    "pred1 = linear_model.predict(X_test)"
   ]
  },
  {
   "cell_type": "code",
   "execution_count": null,
   "id": "670e80ee",
   "metadata": {},
   "outputs": [],
   "source": [
    "predictions = pd.DataFrame(pred1)\n",
    "predictions.head()"
   ]
  },
  {
   "cell_type": "code",
   "execution_count": null,
   "id": "adce7cec",
   "metadata": {},
   "outputs": [],
   "source": [
    "y_test.head(5)"
   ]
  },
  {
   "cell_type": "code",
   "execution_count": null,
   "id": "8fa6bd11",
   "metadata": {},
   "outputs": [],
   "source": [
    "# Calculating the mean squared error and rmse and r2_score\n",
    "from sklearn.metrics import r2_score, mean_squared_error\n",
    "def calculate_metrics(y_test, pred1):\n",
    "    \"\"\"\n",
    "    y_test = ground truth/ actual value\n",
    "    y_pred = model predictions\n",
    "    \"\"\"\n",
    "    mse = mean_squared_error(y_test, pred1)\n",
    "    rmse = np.sqrt(mse)\n",
    "    r2 = r2_score(y_test, pred1)\n",
    "    \n",
    "    print(\"Mean Squared Error = \", mse)\n",
    "    print(\"RMSE = \", rmse)\n",
    "    print(\"R2_score = \", r2)\n",
    "\n",
    "calculate_metrics(y_test, pred1)"
   ]
  },
  {
   "cell_type": "code",
   "execution_count": null,
   "id": "b236539f",
   "metadata": {},
   "outputs": [],
   "source": [
    "from sklearn.linear_model import Lasso, Ridge\n",
    "\n",
    "lasso_model = Lasso().fit(X_train, y_train)\n",
    "ridge_model= Ridge().fit(X_train, y_train)\n",
    "\n",
    "lasso_pred = lasso_model.predict(X_test)\n",
    "ridge_pred = ridge_model.predict(X_test)"
   ]
  },
  {
   "cell_type": "code",
   "execution_count": null,
   "id": "d92b6449",
   "metadata": {},
   "outputs": [],
   "source": [
    "calculate_metrics(y_test, lasso_pred)"
   ]
  },
  {
   "cell_type": "code",
   "execution_count": null,
   "id": "c8e51c17",
   "metadata": {},
   "outputs": [],
   "source": [
    "calculate_metrics(y_test, ridge_pred)"
   ]
  },
  {
   "cell_type": "code",
   "execution_count": null,
   "id": "f8474a14",
   "metadata": {
    "scrolled": true
   },
   "outputs": [],
   "source": [
    "from sklearn.svm import SVR\n",
    "from sklearn.model_selection import GridSearchCV\n",
    "\n",
    "\n",
    "svr = SVR()\n",
    "\n",
    "params = {\"C\": [0.1, 1, 10, 100, 1000],\n",
    "         \"gamma\": [1, 0.1, 0.01, 0.001, 0.0001],\n",
    "          \"kernel\": ['rbf']\n",
    "         }\n",
    "grid = GridSearchCV(SVR(), params, refit = True, verbose = 3)\n",
    "grid.fit(X_train, y_train)"
   ]
  },
  {
   "cell_type": "code",
   "execution_count": null,
   "id": "bd2566ec",
   "metadata": {},
   "outputs": [],
   "source": [
    "svr = SVR(C = 1000, gamma = 0.0001, kernel = 'rbf')\n",
    "svr.fit(X_train, y_train)\n",
    "svr_pred = svr.predict(X_test)\n",
    "df = pd.DataFrame(svr_pred)"
   ]
  },
  {
   "cell_type": "code",
   "execution_count": null,
   "id": "21d8b358",
   "metadata": {},
   "outputs": [],
   "source": [
    "import joblib\n",
    "joblib.dump(linear_model, 'linear_model.pkl')"
   ]
  },
  {
   "cell_type": "code",
   "execution_count": null,
   "id": "fba16391",
   "metadata": {},
   "outputs": [],
   "source": [
    "def predict_price(Open, High, Low, Volume):\n",
    "    test_data = np.array([[Open, High, Low, Volume]])\n",
    "    trained_model = joblib.load(\"linear_model.pkl\")\n",
    "    prediction = trained_model.predict(test_data)\n",
    "    return prediction\n",
    "    \n",
    "predict_price(100,220,3400,30000)"
   ]
  }
 ],
 "metadata": {
  "kernelspec": {
   "display_name": "Python 3 (ipykernel)",
   "language": "python",
   "name": "python3"
  },
  "language_info": {
   "codemirror_mode": {
    "name": "ipython",
    "version": 3
   },
   "file_extension": ".py",
   "mimetype": "text/x-python",
   "name": "python",
   "nbconvert_exporter": "python",
   "pygments_lexer": "ipython3",
   "version": "3.10.14"
  }
 },
 "nbformat": 4,
 "nbformat_minor": 5
}
